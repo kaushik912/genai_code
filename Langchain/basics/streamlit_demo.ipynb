{
  "cells": [
    {
      "cell_type": "markdown",
      "source": [
        "# OpenAI Streamlit Demo\n",
        "\n",
        "\n"
      ],
      "metadata": {
        "id": "cR-LhRljMd7n"
      },
      "id": "cR-LhRljMd7n"
    },
    {
      "cell_type": "code",
      "source": [
        "import os\n",
        "from langchain_openai import ChatOpenAI\n",
        "import streamlit as st\n",
        "from langchain import globals\n",
        "globals.set_debug(True)\n",
        "OPENAI_API_KEY = os.getenv(\"OPENAI_API_KEY\")\n",
        "llm=ChatOpenAI(model=\"gpt-4o\", api_key=OPENAI_API_KEY)\n",
        "\n",
        "st.title(\"Ask Anything\")\n",
        "\n",
        "question = st.text_input(\"Enter the question:\")\n",
        "\n",
        "if question:\n",
        "    response = llm.invoke(question)\n",
        "    st.write(response.content)"
      ],
      "metadata": {
        "id": "X__7IPv6tXRy"
      },
      "id": "X__7IPv6tXRy",
      "execution_count": null,
      "outputs": []
    },
    {
      "cell_type": "markdown",
      "source": [
        "[colab-notebook](https://colab.research.google.com/github/kaushik912/genai_code/blob/main/Langchain/basics/streamlit_demo.ipynb)"
      ],
      "metadata": {
        "id": "WN0Q373Sfvrd"
      },
      "id": "WN0Q373Sfvrd"
    },
    {
      "cell_type": "markdown",
      "source": [
        "Run the example using\n",
        "\n",
        "```\n",
        "streamlit run streamlit.py\n",
        "```\n",
        "\n",
        "assuming you saved the above code as `streamlit.py`"
      ],
      "metadata": {
        "id": "zHqKbaJTg6Td"
      },
      "id": "zHqKbaJTg6Td"
    }
  ],
  "metadata": {
    "kernelspec": {
      "display_name": "Python 3 (ipykernel)",
      "language": "python",
      "name": "python3"
    },
    "language_info": {
      "codemirror_mode": {
        "name": "ipython",
        "version": 3
      },
      "file_extension": ".py",
      "mimetype": "text/x-python",
      "name": "python",
      "nbconvert_exporter": "python",
      "pygments_lexer": "ipython3",
      "version": "3.12.1"
    },
    "colab": {
      "provenance": []
    }
  },
  "nbformat": 4,
  "nbformat_minor": 5
}