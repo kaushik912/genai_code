{
  "cells": [
    {
      "cell_type": "markdown",
      "source": [
        "Basic Gemma Model"
      ],
      "metadata": {
        "id": "cR-LhRljMd7n"
      },
      "id": "cR-LhRljMd7n"
    },
    {
      "cell_type": "code",
      "source": [
        "import os\n",
        "from langchain_community.chat_models import ChatOllama\n",
        "\n",
        "OPENAI_API_KEY = os.getenv(\"OPENAI_API_KEY\")\n",
        "\n",
        "## The LLM piece is now changing to gemma\n",
        "llm=ChatOllama(model=\"gemma:2b\")\n",
        "\n",
        "## Everything else remains same!\n",
        "\n",
        "question = input(\"Enter the question\")\n",
        "response = llm.invoke(question)\n",
        "print(response.content)\n",
        "\n"
      ],
      "metadata": {
        "id": "X__7IPv6tXRy"
      },
      "id": "X__7IPv6tXRy",
      "execution_count": null,
      "outputs": []
    }
  ],
  "metadata": {
    "kernelspec": {
      "display_name": "Python 3 (ipykernel)",
      "language": "python",
      "name": "python3"
    },
    "language_info": {
      "codemirror_mode": {
        "name": "ipython",
        "version": 3
      },
      "file_extension": ".py",
      "mimetype": "text/x-python",
      "name": "python",
      "nbconvert_exporter": "python",
      "pygments_lexer": "ipython3",
      "version": "3.12.1"
    },
    "colab": {
      "provenance": []
    }
  },
  "nbformat": 4,
  "nbformat_minor": 5
}