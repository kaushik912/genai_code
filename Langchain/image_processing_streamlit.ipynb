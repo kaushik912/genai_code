{
  "cells": [
    {
      "cell_type": "markdown",
      "source": [
        "# Image Processing using OpenAI using Streamlit"
      ],
      "metadata": {
        "id": "cR-LhRljMd7n"
      },
      "id": "cR-LhRljMd7n"
    },
    {
      "cell_type": "markdown",
      "source": [
        "## RUN IT IN LOCAL\n",
        "The same example as before but we are now using the streamlit which gives us a nice UI.\n",
        "\n",
        "For simplicity, run this sample locally."
      ],
      "metadata": {
        "id": "aWA8_lzJHXe5"
      },
      "id": "aWA8_lzJHXe5"
    },
    {
      "cell_type": "code",
      "source": [
        "from langchain_openai import ChatOpenAI\n",
        "from langchain_core.prompts import ChatPromptTemplate\n",
        "\n",
        "import base64\n",
        "import os\n",
        "import streamlit as st\n",
        "\n",
        "def encode_image(image_path):\n",
        "    with open(image_path, \"rb\") as image_file:\n",
        "        return base64.b64encode(image_file.read()).decode()\n",
        "\n",
        "def encode_image_fileuploader(image_file):\n",
        "        return base64.b64encode(image_file.read()).decode()\n",
        "\n",
        "OPENAI_API_KEY = os.getenv(\"OPENAI_API_KEY\")\n",
        "llm = ChatOpenAI(model=\"gpt-4o\", api_key=OPENAI_API_KEY)\n",
        "prompt = ChatPromptTemplate.from_messages(\n",
        "    [\n",
        "        (\"system\", \"You are a helpful assistant that can describe images.\"),\n",
        "        (\n",
        "            \"human\",\n",
        "            [\n",
        "                {\"type\": \"text\", \"text\": \"{input}\"},\n",
        "                {\n",
        "                    \"type\": \"image_url\",\n",
        "                    \"image_url\": {\n",
        "                        \"url\": f\"data:image/jpeg;base64,\"\"{image}\",\n",
        "                        \"detail\": \"low\",\n",
        "                    },\n",
        "                },\n",
        "            ],\n",
        "        ),\n",
        "    ]\n",
        ")\n",
        "chain = prompt | llm\n",
        "uploaded_file = st.file_uploader(\"Upload your image\", [\"jpeg\",\"png\"])\n",
        "question=st.text_input(\"enter a question about the image\")\n",
        "\n",
        "if question:\n",
        "    image = encode_image_fileuploader(uploaded_file)\n",
        "    response = chain.invoke({\"input\": question,\"image\":image})\n",
        "    st.write(response.content)\n",
        "\n"
      ],
      "metadata": {
        "collapsed": true,
        "id": "qyeuBsjMH2t_"
      },
      "id": "qyeuBsjMH2t_",
      "execution_count": null,
      "outputs": []
    },
    {
      "cell_type": "markdown",
      "source": [
        "Run the example using\n",
        "```\n",
        "streamlit run streamlit_image_processing.py\n",
        "```\n",
        "assuming you saved the file as `streamlit_image_processing.py`"
      ],
      "metadata": {
        "id": "SXEBYMJmIrAH"
      },
      "id": "SXEBYMJmIrAH"
    },
    {
      "cell_type": "markdown",
      "source": [
        "# Additional Notes\n",
        "- Here only change is we introduce streamlit\n",
        "  - we import `streamlit as st`\n",
        "  - we take inputs from user for `question` using `st.text_input()`\n",
        "  - we also take the file from user using\n",
        "    `st.file_uploader(\"Upload your image\", [\"jpeg\",\"png\"])`\n",
        "    - Here it takes an array of file types namely 'jpeg', 'png'\n",
        "  - Once streamlit parses the file, we don't need to read it again using open() like we did earlier and so we directly use:\n",
        "\n",
        "    `return base64.b64encode(image_file.read()).decode()`\n",
        "\n",
        "  - This I have created a separate function for that ie. `encode_image_fileuploader()`\n",
        "    - So now we read the image using this new function\n",
        "\n",
        "      `image = encode_image_fileuploader(uploaded_file)`\n",
        "\n",
        "  - We now inject {image} as well into the template instead of hard-coding it.\n",
        "    - `\"url\": f\"data:image/jpeg;base64,\"\"{image}\"`\n",
        "  - finally we pass the {image} variable as well as part of the invoke.\n",
        "    - `chain.invoke({\"input\": question,\"image\":image})`\n",
        "\n",
        "\n",
        "\n"
      ],
      "metadata": {
        "id": "rWBWUIlaoLho"
      },
      "id": "rWBWUIlaoLho"
    },
    {
      "cell_type": "markdown",
      "id": "8d5f3703",
      "metadata": {
        "id": "8d5f3703"
      },
      "source": [
        "[![Open in Colab](https://colab.research.google.com/assets/colab-badge.svg)](https://colab.research.google.com/github/langchain-ai/langchain-academy/blob/main/module-1/simple-graph.ipynb) [![Open in LangChain Academy](https://cdn.prod.website-files.com/65b8cd72835ceeacd4449a53/66e9eba12c7b7688aa3dbb5e_LCA-badge-green.svg)](https://academy.langchain.com/courses/take/intro-to-langgraph/lessons/58238187-lesson-2-simple-graph)"
      ]
    }
  ],
  "metadata": {
    "kernelspec": {
      "display_name": "Python 3 (ipykernel)",
      "language": "python",
      "name": "python3"
    },
    "language_info": {
      "codemirror_mode": {
        "name": "ipython",
        "version": 3
      },
      "file_extension": ".py",
      "mimetype": "text/x-python",
      "name": "python",
      "nbconvert_exporter": "python",
      "pygments_lexer": "ipython3",
      "version": "3.12.1"
    },
    "colab": {
      "provenance": []
    }
  },
  "nbformat": 4,
  "nbformat_minor": 5
}