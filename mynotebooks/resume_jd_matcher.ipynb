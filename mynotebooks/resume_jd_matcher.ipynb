{
  "cells": [
    {
      "cell_type": "markdown",
      "metadata": {
        "id": "view-in-github",
        "colab_type": "text"
      },
      "source": [
        "<a href=\"https://colab.research.google.com/github/kaushik912/genai_code/blob/main/mynotebooks/resume_jd_matcher.ipynb\" target=\"_parent\"><img src=\"https://colab.research.google.com/assets/colab-badge.svg\" alt=\"Open In Colab\"/></a>"
      ]
    },
    {
      "cell_type": "markdown",
      "source": [
        "# JD Resume Matcher\n",
        "Below utility helps to compare JD and resume and provides useful suggestions to improve"
      ],
      "metadata": {
        "id": "mRsEFpWqLCiJ"
      }
    },
    {
      "cell_type": "code",
      "source": [
        "!pip install openai langchain_core langchain_openai"
      ],
      "metadata": {
        "id": "O6MUSHvT0Y6A"
      },
      "execution_count": null,
      "outputs": []
    },
    {
      "cell_type": "code",
      "source": [
        "import base64\n",
        "import os\n",
        "import getpass\n",
        "def _set_env(var: str):\n",
        "    if not os.environ.get(var):\n",
        "        os.environ[var] = getpass.getpass(f\"{var}: \")\n",
        "\n",
        "_set_env(\"OPENAI_API_KEY\")"
      ],
      "metadata": {
        "id": "pJSw9Tc_0pRN",
        "outputId": "750ce84c-a879-456d-80bb-13a5ff4cb91d",
        "colab": {
          "base_uri": "https://localhost:8080/"
        }
      },
      "execution_count": 2,
      "outputs": [
        {
          "name": "stdout",
          "output_type": "stream",
          "text": [
            "OPENAI_API_KEY: ··········\n"
          ]
        }
      ]
    },
    {
      "cell_type": "code",
      "source": [
        "import os\n",
        "import sys\n",
        "\n",
        "import openai\n",
        "from langchain_core.prompts import PromptTemplate\n",
        "from langchain_openai import ChatOpenAI\n",
        "\n",
        "# Set up your OpenAI API key here\n",
        "openai.api_key = os.getenv(\"OPENAI_API_KEY\")\n",
        "model_name=\"gpt-4o\"\n",
        "def read_file(file_path):\n",
        "    \"\"\"\n",
        "    Reads the content of a file.\n",
        "    \"\"\"\n",
        "    try:\n",
        "        with open(file_path, 'r', encoding='utf-8') as file:\n",
        "            return file.read()\n",
        "    except Exception as e:\n",
        "        print(f\"Error reading file {file_path}: {e}\")\n",
        "        sys.exit(1)\n",
        "\n",
        "def calculate_similarity(job_description, resume):\n",
        "    \"\"\"\n",
        "    Uses OpenAI's GPT model to calculate the similarity score between job description and resume.\n",
        "    \"\"\"\n",
        "    llm = ChatOpenAI(model=model_name, api_key=openai.api_key, temperature=0.5, max_tokens=50)\n",
        "    #llm = ChatOllama(model=model_name,temperature=0.5)\n",
        "    prompt = PromptTemplate(\n",
        "        input_variables=[\"job_description\",\"resume\"],\n",
        "        template=\"\"\"\n",
        "        Job Description:\\n{job_description}\\n\\nResume:\\n{resume}\\n\\nRate the similarity between the job description and the resume on a scale from 0 to 1, where 1 means a perfect match and 0 means no match. Print only a value between 0 to 1.\n",
        "        \"\"\"\n",
        "    )\n",
        "\n",
        "    try:\n",
        "        response = llm.invoke(prompt.format(job_description=job_description,\n",
        "                                            resume=resume))\n",
        "        print(response.content)\n",
        "        return float(response.content)\n",
        "    except Exception as e:\n",
        "        print(f\"Error with OpenAI API: {e}\")\n",
        "        sys.exit(1)\n",
        "\n",
        "\n",
        "\n",
        "def generate_improvement_suggestions(job_description, resume):\n",
        "    \"\"\"\n",
        "    Uses OpenAI's GPT model to generate suggestions for improving the resume.\n",
        "    \"\"\"\n",
        "    llm = ChatOpenAI(model=model_name, api_key=openai.api_key, temperature=0.7, max_tokens=150)\n",
        "    #llm = ChatOllama(model=model_name, temperature=0.7)\n",
        "    prompt = PromptTemplate(\n",
        "        input_variables=[\"job_description\", \"resume\"],\n",
        "        template=\"\"\"\n",
        "            Job Description:\\n{job_description}\\n\\nResume:\\n{resume}\\n\\nProvide detailed suggestions on how to improve the resume to better match the job description.\n",
        "            \"\"\"\n",
        "    )\n",
        "    try:\n",
        "        response = llm.invoke(prompt.format(job_description=job_description,\n",
        "                                            resume=resume))\n",
        "        suggestions = response.content\n",
        "        return suggestions\n",
        "    except Exception as e:\n",
        "        print(f\"Error with OpenAI API: {e}\")\n",
        "        sys.exit(1)\n",
        "\n",
        "if __name__ == \"__main__\":\n",
        "\n",
        "    job_description = input(\"Enter the Job Description text: \").strip()\n",
        "    resume = input(\"Enter the Resume text: \").strip()\n",
        "\n",
        "    # Calculate similarity score\n",
        "    similarity_score = calculate_similarity(job_description, resume)\n",
        "    print(f\"Similarity Score: {similarity_score:.2f}\")\n",
        "\n",
        "    # Provide improvement suggestions if the score is below 0.7\n",
        "    if similarity_score < 0.95:\n",
        "        print(\"\\nSuggestions to Improve Resume:\")\n",
        "        suggestions = generate_improvement_suggestions(job_description, resume)\n",
        "        print(suggestions)\n",
        "    else:\n",
        "        print(\"\\nThe resume is a good match for the job description.\")\n"
      ],
      "metadata": {
        "id": "UBUPW0dO0UVr",
        "outputId": "9821e405-6dd8-4785-8e11-2d0d72daea15",
        "colab": {
          "base_uri": "https://localhost:8080/"
        }
      },
      "execution_count": 3,
      "outputs": [
        {
          "output_type": "stream",
          "name": "stdout",
          "text": [
            "Enter the Job Description text: Job Summary: As a Principal Engineer, you will be responsible for leading the technical design and implementation of high-impact projects. You will collaborate with cross-functional teams, including product management, data science, and UX/UI, to deliver scalable and high-performance solutions. This is a hands-on role where you will take ownership of the technical direction, ensuring the success of key features and platforms within our eCommerce ecosystem.  Key Responsibilities:  Lead the design, development, and deployment of critical eCommerce systems and platforms. Architect scalable, secure, and high-performance solutions for customer-facing applications and backend services. Drive technical innovation, ensuring the integration of cutting-edge technologies in areas such as AI/ML, personalization, search optimization, and cloud infrastructure. Provide technical leadership, mentorship, and guidance to engineering teams to ensure best practices and coding standards. Work closely with product teams to define technical requirements and translate them into high-quality, maintainable solutions. Ensure the reliability, performance, and security of all deployed applications, including optimizing system scalability for high traffic volumes. Collaborate with stakeholders to identify business opportunities and technical risks, proposing solutions that balance short-term goals and long-term vision. Actively participate in code reviews, troubleshooting, and debugging complex technical challenges. Contribute to continuous improvement initiatives, promoting engineering excellence, automation, and testing best practices. Required Qualifications:  Bachelor's or Master’s degree in Computer Science, Engineering, or related field (or equivalent practical experience). 10+ years of experience in software engineering, with a focus on eCommerce platforms, cloud architecture, or large-scale distributed systems. Strong expertise in backend technologies such as Java, Python, Node.js, and cloud platforms (AWS, Azure, Google Cloud). Experience with front-end technologies like React, Angular, or similar frameworks. In-depth knowledge of databases (SQL and NoSQL) and data modeling techniques. Proven track record of leading complex technical projects, from conception to production. Solid understanding of microservices architecture, containerization (Docker, Kubernetes), and CI/CD pipelines. Familiarity with large-scale data processing and integration technologies such as Kafka, Spark, or similar tools. Strong problem-solving skills and the ability to think strategically and execute at both the macro and micro level. Excellent communication skills and the ability to collaborate effectively with cross-functional teams. Preferred Qualifications:  Experience in building or scaling eCommerce platforms, payment systems, or similar high-traffic applications. Experience with machine learning algorithms, data-driven decision-making, and recommendation engines. Familiarity with security best practices, including data privacy regulations (e.g., GDPR, PCI compliance). Leadership experience in mentoring junior and senior engineers, fostering a culture of learning and collaboration.\n",
            "Enter the Resume text: [Your Name] Email: [your.email@example.com] | Phone: [+91-XXXXXXXXXX] | LinkedIn: [linkedin.com/in/yourprofile] | GitHub: [github.com/yourusername] | Location: [City, State, India]   SUMMARY Innovative and results-driven software engineer with 15+ years of experience in designing and developing scalable, high-performance systems. Proficient in system architecture, backend development, and cross-functional leadership. Expertise in solving complex problems through elegant design and efficient coding practices. Passionate about driving technical excellence and mentoring engineering teams.   CORE COMPETENCIES •\tProgramming Languages: Java, Python, C++, Go, JavaScript/TypeScript •\tFrameworks & Tools: Spring Boot, Django, React.js, Node.js •\tCloud Platforms: AWS, Azure, Google Cloud Platform (GCP) •\tDatabases: MySQL, PostgreSQL, MongoDB, Redis, Cassandra •\tSystem Design Expertise: Microservices, Distributed Systems, Event-Driven Architecture •\tDevOps & CI/CD: Docker, Kubernetes, Jenkins, Terraform   PROFESSIONAL EXPERIENCE Senior Software Architect [Current/Most Recent Company Name], [City, State, India] MM/YYYY – Present •\tSpearheaded the design and development of a high-throughput, distributed microservices architecture serving 1M+ daily active users. •\tImproved system scalability by 50% through implementation of caching (Redis) and database sharding techniques. •\tLed a team of 15 engineers, mentoring on coding standards, best practices, and design principles. •\tEstablished API standards and governance processes, reducing API response times by 20%. Key Achievements: •\tDesigned a highly available notification system with 99.99% uptime. •\tMigrated monolithic architecture to cloud-native microservices, reducing operational costs by 30%.   Technical Lead [Previous Company Name], [City, State, India] MM/YYYY – MM/YYYY •\tDesigned and developed a scalable e-commerce platform handling 500K transactions/day. •\tBuilt and optimized search functionality using Elasticsearch, achieving a 40% improvement in query performance. •\tCollaborated with product managers to deliver customer-focused features on time and under budget. Key Achievements: •\tImplemented API rate limiting and throttling, improving system stability under high load. •\tDelivered technical presentations on system design at internal and external tech meetups.   Software Engineer [Company Name], [City, State, India] MM/YYYY – MM/YYYY •\tContributed to the development of a recommendation engine, increasing user engagement by 25%. •\tDesigned and implemented a custom logging framework that reduced debugging time by 30%.   EDUCATION Bachelor of Technology (B.Tech) in Computer Science [University Name], [City, State] | [Year of Graduation]   PROJECTS Real-Time Analytics Platform •\tArchitected a real-time analytics dashboard using Apache Kafka, Spark, and D3.js, enabling business insights in under 2 seconds. Scalable Chat Application •\tDesigned a WhatsApp-like messaging system handling 100K concurrent users using WebSockets and distributed databases.   CERTIFICATIONS •\tAWS Certified Solutions Architect – Professional •\tCertified Kubernetes Administrator (CKA) •\tSystem Design Masterclass – [Platform Name]   PUBLICATIONS & TALKS •\tSpeaker at [Tech Conference Name], \"Scaling Microservices: Best Practices and Pitfalls,\" [Year]. •\tAuthored technical blog series on distributed systems, with 100K+ views on [Medium/Personal Blog].   INTERESTS •\tOpen-source contributions: [GitHub Repo Link] •\tMentoring engineers and conducting coding bootcamps. •\tExploring advancements in AI/ML for system optimization.\n",
            "0.9\n",
            "Similarity Score: 0.90\n",
            "\n",
            "Suggestions to Improve Resume:\n",
            "To better align your resume with the job description for the Principal Engineer role, you should emphasize and tailor specific aspects of your experience and skills to match the key responsibilities and qualifications mentioned in the job description. Here are some detailed suggestions:\n",
            "\n",
            "### Contact Information\n",
            "- **Ensure Professionalism:** Make sure your email address and LinkedIn profile are professional and up-to-date.\n",
            "\n",
            "### Summary Section\n",
            "- **Highlight Leadership and Innovation:** Emphasize your experience in leading cross-functional teams and driving technical innovation, as these are key aspects of the job description.\n",
            "- **Mention eCommerce Experience:** If applicable, explicitly mention your experience in eCommerce platforms to align with the job focus.\n",
            "\n",
            "### Core Competencies\n",
            "- **Include AI/ML Experience:** If you have experience\n"
          ]
        }
      ]
    }
  ],
  "metadata": {
    "colab": {
      "name": "Welcome To Colab",
      "provenance": [],
      "include_colab_link": true
    },
    "kernelspec": {
      "display_name": "Python 3",
      "name": "python3"
    }
  },
  "nbformat": 4,
  "nbformat_minor": 0
}