{
 "cells": [
  {
   "cell_type": "markdown",
   "metadata": {},
   "source": [
    "Travel Guide LCEL Demo"
   ]
  },
  {
   "cell_type": "code",
   "execution_count": 7,
   "metadata": {},
   "outputs": [
    {
     "name": "stdout",
     "output_type": "stream",
     "text": [
      "Writing lcel_demo.py\n"
     ]
    }
   ],
   "source": [
    "%%writefile lcel_demo.py\n",
    "import os\n",
    "from langchain_openai import ChatOpenAI\n",
    "import streamlit as st\n",
    "from langchain.prompts import PromptTemplate\n",
    "\n",
    "OPENAI_API_KEY = os.getenv(\"OPENAI_API_KEY\")\n",
    "llm=ChatOpenAI(model=\"gpt-4o\", api_key=OPENAI_API_KEY)\n",
    "prompt_template = PromptTemplate(\n",
    "    input_variables=[\"city\",\"month\",\"language\",\"budget\"],\n",
    "    template=\"\"\"Welcome to the {city} travel guide!\n",
    "    If you're visiting in {month}, here's what you can do:\n",
    "    1. Must-visit attractions.\n",
    "    2. Local cuisine you must try.\n",
    "    3. Useful phrases in {language}.\n",
    "    4. Tips for traveling on a {budget} budget.\n",
    "    Enjoy your trip!\n",
    "    \"\"\"\n",
    ")\n",
    "\n",
    "st.title(\"Travel Guide\")\n",
    "\n",
    "city = st.text_input(\"Enter the city:\")\n",
    "month = st.text_input(\"Enter the month of travel\")\n",
    "language = st.text_input(\"Enter the language:\")\n",
    "budget = st.selectbox(\"Travel Budget\",[\"Low\",\"Medium\",\"High\"])\n",
    "\n",
    "chain = prompt_template | llm\n",
    "\n",
    "if city and month and language and budget:\n",
    "    response = chain.invoke({\"city\":city,\n",
    "                             \"month\":month,\n",
    "                             \"language\":language,\n",
    "                             \"budget\":budget\n",
    "                             })\n",
    "    st.write(response.content)"
   ]
  },
  {
   "cell_type": "markdown",
   "metadata": {},
   "source": [
    "Run the app"
   ]
  },
  {
   "cell_type": "code",
   "execution_count": 8,
   "metadata": {},
   "outputs": [
    {
     "name": "stdout",
     "output_type": "stream",
     "text": [
      "\u001b[0m\n",
      "\u001b[34m\u001b[1m  You can now view your Streamlit app in your browser.\u001b[0m\n",
      "\u001b[0m\n",
      "\u001b[34m  Local URL: \u001b[0m\u001b[1mhttp://localhost:8501\u001b[0m\n",
      "\u001b[34m  Network URL: \u001b[0m\u001b[1mhttp://100.64.0.1:8501\u001b[0m\n",
      "\u001b[0m\n",
      "\u001b[34m\u001b[1m  For better performance, install the Watchdog module:\u001b[0m\n",
      "\n",
      "  $ xcode-select --install\n",
      "  $ pip install watchdog\n",
      "            \u001b[0m\n",
      "^C\n",
      "\u001b[34m  Stopping...\u001b[0m\n"
     ]
    }
   ],
   "source": [
    "!streamlit run lcel_demo.py"
   ]
  },
  {
   "cell_type": "markdown",
   "metadata": {},
   "source": []
  }
 ],
 "metadata": {
  "kernelspec": {
   "display_name": "Python 3",
   "language": "python",
   "name": "python3"
  },
  "language_info": {
   "codemirror_mode": {
    "name": "ipython",
    "version": 3
   },
   "file_extension": ".py",
   "mimetype": "text/x-python",
   "name": "python",
   "nbconvert_exporter": "python",
   "pygments_lexer": "ipython3",
   "version": "3.12.6"
  }
 },
 "nbformat": 4,
 "nbformat_minor": 2
}
