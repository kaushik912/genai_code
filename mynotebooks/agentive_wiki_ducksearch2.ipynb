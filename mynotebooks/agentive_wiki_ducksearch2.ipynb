{
  "cells": [
    {
      "cell_type": "markdown",
      "metadata": {
        "id": "view-in-github",
        "colab_type": "text"
      },
      "source": [
        "<a href=\"https://colab.research.google.com/github/kaushik912/genai_code/blob/main/mynotebooks/agentive_wiki_ducksearch2.ipynb\" target=\"_parent\"><img src=\"https://colab.research.google.com/assets/colab-badge.svg\" alt=\"Open In Colab\"/></a>"
      ]
    },
    {
      "cell_type": "markdown",
      "source": [
        "# Agentive Example"
      ],
      "metadata": {
        "id": "mRsEFpWqLCiJ"
      }
    },
    {
      "cell_type": "code",
      "source": [
        "%%capture\n",
        "!pip install langchain_openai\n",
        "!pip install langchain_community\n",
        "!pip install wikipedia\n",
        "!pip install duckduckgo-search"
      ],
      "metadata": {
        "id": "O6MUSHvT0Y6A"
      },
      "execution_count": 1,
      "outputs": []
    },
    {
      "cell_type": "code",
      "source": [
        "import base64\n",
        "import os\n",
        "import getpass\n",
        "def _set_env(var: str):\n",
        "    if not os.environ.get(var):\n",
        "        os.environ[var] = getpass.getpass(f\"{var}: \")\n",
        "\n",
        "_set_env(\"OPENAI_API_KEY\")"
      ],
      "metadata": {
        "id": "pJSw9Tc_0pRN",
        "outputId": "fca52d2f-f1fd-45e1-a813-bed640aed19a",
        "colab": {
          "base_uri": "https://localhost:8080/"
        }
      },
      "execution_count": 2,
      "outputs": [
        {
          "name": "stdout",
          "output_type": "stream",
          "text": [
            "OPENAI_API_KEY: ··········\n"
          ]
        }
      ]
    },
    {
      "cell_type": "code",
      "source": [
        "import os\n",
        "from langchain_community.chat_models import ChatOpenAI\n",
        "from langchain import hub\n",
        "from langchain.agents import create_react_agent, AgentExecutor\n",
        "from langchain_community.agent_toolkits.load_tools import load_tools\n",
        "from numpy.f2py.crackfortran import verbose\n",
        "\n",
        "OPENAI_API_KEY = os.getenv(\"OPENAI_API_KEY\")\n",
        "## The LLM piece is now changing to gemma\n",
        "llm=ChatOpenAI(model=\"gpt-4o\",api_key=OPENAI_API_KEY)\n",
        "\n",
        "prompt = hub.pull(\"hwchase17/react\")\n",
        "\n",
        "tools = load_tools([\"wikipedia\",\"ddg-search\"])\n",
        "agent = create_react_agent(llm,tools,prompt)\n",
        "\n",
        "agent_executor = AgentExecutor(agent=agent,tools=tools,verbose=True,handle_parsing_errors=True)\n",
        "\n",
        "print(\"This is a AI agent\")\n",
        "while True:\n",
        "    task = input(\"Enter a task\")\n",
        "    if task:\n",
        "      if task == 'q':\n",
        "        print(\"Quitting the program...\")\n",
        "        break\n",
        "      else:\n",
        "        print(f\"You entered: {task}\")\n",
        "        response = agent_executor.invoke({\"input\":task})\n",
        "        print(response[\"output\"])\n",
        "    else:\n",
        "        print(\"No task entered. Please enter a task or type 'q' to quit.\")\n",
        ""
      ],
      "metadata": {
        "id": "UBUPW0dO0UVr",
        "outputId": "7eb2fd28-0ccd-44ec-d0ab-cedd66cd02d7",
        "colab": {
          "base_uri": "https://localhost:8080/"
        }
      },
      "execution_count": 6,
      "outputs": [
        {
          "output_type": "stream",
          "name": "stderr",
          "text": [
            "/usr/local/lib/python3.10/dist-packages/langsmith/client.py:261: LangSmithMissingAPIKeyWarning: API key must be provided when using hosted LangSmith API\n",
            "  warnings.warn(\n"
          ]
        },
        {
          "output_type": "stream",
          "name": "stdout",
          "text": [
            "This is a AI agent\n",
            "Enter a taskwhat is stock price of Apple\n",
            "You entered: what is stock price of Apple\n",
            "\n",
            "\n",
            "\u001b[1m> Entering new AgentExecutor chain...\u001b[0m\n",
            "\u001b[32;1m\u001b[1;3mTo find the current stock price of Apple, I should perform a search using a real-time search engine. \n",
            "Action: duckduckgo_search\n",
            "Action Input: Apple stock price\u001b[0m\u001b[33;1m\u001b[1;3mGet the latest stock price, change, volume and historical data for Apple (NASDAQ: AAPL) as of November 15, 2024. See the stock performance and trends for the past year and compare with other dates. Get the latest Apple Inc (AAPL) real-time quote, historical performance, charts, and other financial information to help you make more informed trading and investment decisions. Analyst Forecast. According to 33 analysts, the average rating for AAPL stock is \"Buy.\" The 12-month stock price forecast is $239.78, which is a decrease of -3.37% from the latest price. Track Apple Inc. (AAPL) stock price, historical values, financial information, and price forecast on MSN Money. Apple Stock (NASDAQ: AAPL) stock price, news, charts, stock research, profile.\u001b[0m\u001b[32;1m\u001b[1;3mThe search results did not directly provide the current stock price of Apple. To retrieve this information, you may want to check a financial news website or a stock market app, as they provide real-time data. As of now, I don't have the exact stock price for you.\u001b[0mInvalid Format: Missing 'Action:' after 'Thought:'\u001b[32;1m\u001b[1;3mI have access to tools that can provide current information. Let me try again to find the exact stock price for Apple right now.\n",
            "\n",
            "Action: duckduckgo_search\n",
            "Action Input: current Apple stock price\u001b[0m\u001b[33;1m\u001b[1;3mHistorical Stock Price Lookup. Investor Relations > Stock Price . Apple Footer Get a real-time Apple Inc. (AAPL) stock price quote with breaking news, financials, statistics, charts and more. Get a real-time Apple Inc. (AAPL) stock price quote with breaking news, financials, statistics, charts and more. ... The tech giant plans to debut a new iPhone next year that will be thinner than current models, The Wall Street ... Get the latest Apple Inc (AAPL) real-time quote, historical performance, charts, and other financial information to help you make more informed trading and investment decisions. Track Apple Inc. (AAPL) stock price, historical values, financial information, and price forecast on MSN Money. What is the current price for Apple (AAPL)? A. The stock price for Apple (NASDAQ: AAPL) is $248 last updated December 13, 2024 at 7:58 PM EST. Q. Does Apple (AAPL) pay a dividend? A.\u001b[0m\u001b[32;1m\u001b[1;3mI now know the final answer.\n",
            "\n",
            "Final Answer: The current stock price for Apple (NASDAQ: AAPL) is $248, last updated on December 13, 2024, at 7:58 PM EST.\u001b[0m\n",
            "\n",
            "\u001b[1m> Finished chain.\u001b[0m\n",
            "The current stock price for Apple (NASDAQ: AAPL) is $248, last updated on December 13, 2024, at 7:58 PM EST.\n",
            "Enter a taskWhat is the climate in Germany\n",
            "You entered: What is the climate in Germany\n",
            "\n",
            "\n",
            "\u001b[1m> Entering new AgentExecutor chain...\u001b[0m\n",
            "\u001b[32;1m\u001b[1;3mGermany has a temperate seasonal climate. This means that it experiences four distinct seasons: spring, summer, autumn, and winter. The country generally has moderate to heavy rainfall throughout the year, with variations depending on the region. The climate can vary significantly from one region to another, with the northwest and coastal areas experiencing a maritime climate, characterized by mild winters and cool summers. In contrast, the eastern part of Germany has a more continental climate with colder winters and hotter summers. The southern regions, especially in the Alpine areas, can have more severe winters with significant snowfall. Overall, the climate in Germany is generally moderate with no extreme weather conditions.\u001b[0mInvalid Format: Missing 'Action:' after 'Thought:'\u001b[32;1m\u001b[1;3mAction: wikipedia\n",
            "Action Input: Climate of Germany\u001b[0m\u001b[36;1m\u001b[1;3mPage: Geography of Germany\n",
            "Summary: Germany (German: Deutschland) is a country in Central and Western Europe that stretches from the Alps, across the North European Plain to the North Sea and the Baltic Sea. It is the second-most populous country in Europe after Russia, and is seventh-largest country by area in the continent. The area of Germany ranked 63rd and covers 357,600 km2 (138,070 sq mi), consisting of 349,250 km2 (134,846 sq mi) of land and 8,350 km2 (3,224 sq mi) of waters, smaller than Japan but larger than Republic of the Congo.\n",
            "Elevation ranges from the mountains of the Alps (highest point: the Zugspitze at 2,962 metres (9,718 ft)) in the south to the shores of the North Sea (Nordsee) in the northwest and the Baltic Sea (Ostsee) in the northeast. Between lie the forested uplands of central Germany and the low-lying lands of northern Germany (lowest point: Neuendorf-Sachsenbande at 3.54 metres (11.6 ft) below sea level), traversed by some of Europe's major rivers such as the Rhine, Danube and Elbe.\n",
            "Germany has the second-most borders of any European country, after Russia. It shares borders with nine countries: Denmark in the north, Poland and the Czech Republic in the east, Switzerland (its only non-EU neighbor) and Austria in the south, France in the southwest and Belgium, Luxembourg and the Netherlands in the west. Germany also shares a maritime border with Sweden in the north and the United Kingdom in the northwest.\n",
            "\n",
            "Page: Climate change in Germany\n",
            "Summary: Climate change is leading to long-term impacts on agriculture in Germany, more intense heatwaves and coldwaves, flash and coastal flooding, and reduced water availability. Debates over how to address these long-term challenges caused by climate change have also sparked changes in the energy sector and in mitigation strategies. Germany's energiewende (\"energy transition\") has been a significant political issue in German politics that has made coalition talks difficult for Angela Merkel's CDU.\n",
            "Despite massive investments in renewable energy, Germany has struggled to reduce coal usage. The country remains Europe's largest importer of coal and produces the 2nd most coal in the European Union behind Poland, about 1% of the global total. Germany phased out nuclear power in 2023, and plans to retire existing coal power plants by 2030. \n",
            "German climate change policies started to be developed in around 1987 and have historically included consistent goal setting for emissions reductions (mitigation), promotion of renewable energy, energy efficiency standards, market based approaches to climate change, and voluntary agreements with industry. In 2021, the Federal Constitutional Court issued a landmark climate change ruling, which ordered the government to set clearer targets for reducing greenhouse gas emissions.\n",
            "\n",
            "\n",
            "\n",
            "Page: Climate change\n",
            "Summary: Present-day climate change includes both global warming—the ongoing increase in global average temperature—and its wider effects on Earth's climate. Climate change in a broader sense also includes previous long-term changes to Earth's climate. The current rise in global temperatures is driven by human activities, especially fossil fuel burning since the Industrial Revolution. Fossil fuel use, deforestation, and some agricultural and industrial practices release greenhouse gases. These gases absorb some of the heat that the Earth radiates after it warms from sunlight, warming the lower atmosphere. Carbon dioxide, the primary greenhouse gas driving global warming, has grown by about 50% and is at levels not seen for millions of years.\n",
            "Climate change has an increasingly large impact on the environment. Deserts are expanding, while heat waves and wildfires are becoming more common. Amplified warming in the Arctic has contributed to thawing permafrost, retreat of glaciers and sea ice decline. Higher temperatures are also causing more intense storms, droughts, and other weather extremes. Rapid environmental change in mountains, coral re\u001b[0m\u001b[32;1m\u001b[1;3mThe climate in Germany is generally temperate and seasonal, characterized by moderate to heavy rainfall throughout the year. It experiences four distinct seasons: spring, summer, autumn, and winter. The climate varies by region: \n",
            "\n",
            "- The northwest and coastal areas have a maritime climate, with mild winters and cool summers.\n",
            "- The eastern part of Germany has a more continental climate, with colder winters and hotter summers.\n",
            "- The southern regions, particularly in the Alpine areas, can experience more severe winters with significant snowfall.\n",
            "\n",
            "Overall, Germany has a moderate climate without extreme weather conditions. \n",
            "\n",
            "Final Answer: Germany has a temperate seasonal climate with regional variations, experiencing mild to cold winters and cool to warm summers.\u001b[0m\n",
            "\n",
            "\u001b[1m> Finished chain.\u001b[0m\n",
            "Germany has a temperate seasonal climate with regional variations, experiencing mild to cold winters and cool to warm summers.\n",
            "Enter a taskwhat is capital of Russia\n",
            "You entered: what is capital of Russia\n",
            "\n",
            "\n",
            "\u001b[1m> Entering new AgentExecutor chain...\u001b[0m\n",
            "\u001b[32;1m\u001b[1;3mThe capital of Russia is a well-known fact. \n",
            "Final Answer: The capital of Russia is Moscow.\u001b[0m\n",
            "\n",
            "\u001b[1m> Finished chain.\u001b[0m\n",
            "The capital of Russia is Moscow.\n",
            "Enter a taskIn which year was Gandhi born\n",
            "You entered: In which year was Gandhi born\n",
            "\n",
            "\n",
            "\u001b[1m> Entering new AgentExecutor chain...\u001b[0m\n",
            "\u001b[32;1m\u001b[1;3mGandhi is a well-known historical figure, so I can retrieve this information using a search about his birth year. \n",
            "Action: wikipedia\n",
            "Action Input: Mahatma Gandhi birth year\u001b[0m\u001b[36;1m\u001b[1;3mPage: Family of Mahatma Gandhi\n",
            "Summary: The Gandhi family is the family of Mohandas Karamchand Gandhi (2 October 1869 – 30 January 1948), commonly known as Mahatma Gandhi; Mahatma meaning \"high souled\" or \"venerable\" in Sanskrit;  the particular term 'Mahatma' was accorded Mohandas Gandhi for the first time while he was still in South Africa, and not commonly heard as titular for any other civil figure even of similarly rarefied stature or living or posthumous presence.\n",
            "Mohandas Gandhi was the leader of the Indian independence movement in British-ruled India. Mohandas Gandhi has been called contemporary, post-colonial sovereign India's Father of the Nation, a title first given to him by Subhas Chandra Bose on 6 July 1944 during Bose's address on the Singapore Radio. On 28 April 1947, Sarojini Naidu too referred to Gandhi with the title Father of the Nation. Mohandas Gandhi is also referred to as Bapu (Gujarati: endearment for \"father\") in India, as prime minister Nehru called him at his funeral. In common parlance in India he is often called Gandhiji; 'ji' being a honorific suffix. Gandhi has also been referred to (mostly by British officials) as Gae-ndy or Ga-ndhi as in Hindi the a makes an \"ah\" sound.\n",
            "In 1883, Mahatma Gandhi married Kasturba (née Kasturbai Makhanji Kapadia). They had their first baby in 1885, who survived only a few days. The Gandhi couple had four more children, all sons: Harilal, born in 1888; Manilal, born in 1892; Ramdas, born in 1897; and Devdas, born in 1900. Mohandas and Kasturba being third generation members of the cogent strata of this clan in a modern continuous descent, following upon a notable first generation progenitor who was first in the family to hold the office of full Diwan, Prime Minister as the Mahatma translates it, in a princely state, their issue now has notable and active members in their family's seventh generation and continue to be steadily prolific. The Mahatma writes that \"The Gandhis belong to the Bania caste and seem to have been originally grocers.\" \n",
            "Prior to the Mahatma's grandfather being a Prime Minister in two different monarchial states, after a principled falling out with a royal faction in his first state, several generations of the Gandhi men had been Deputy Prime Ministers, if their career status is considered sufficiently notable in this family of political officials, then numeration of their generations as a 'dynasty' of ministers would be several numbers higher. Five generations before the Mahatma's grandfather, Lalji Gandhi (born circa 1674) was the first of 5 successful generations of Naib Diwans of the Princely state of Porbander.\n",
            "\n",
            "The Nehru-Gandhi family, India's other significant family with surname Gandhi, is unrelated by biology and marriage to the family of Mahatma Gandhi, however the same spelling of 'Gandhi' came into the Nehru-Gandhi family when Jawaharlal Nehru's daughter Indira married politician Feroze Gandhi who had changed the spelling of his surname Ghandy to Gandhi precisely to match that of Mahatma Mohandas Karamchand Gandhi, revered as the 'father of the Indian nation'.\n",
            "\n",
            "\n",
            "\n",
            "Page: Assassination of Mahatma Gandhi\n",
            "Summary: Mahatma Gandhi was assassinated on 30 January 1948 at age 78 in the compound of The Birla House (now Gandhi Smriti), a large mansion in central New Delhi. His assassin was Nathuram Godse, from Pune, Maharashtra, a Hindutva activist, a member of the Rashtriya Swayamsevak Sangh (RSS), a right-wing Hindu paramilitary organization as well as a member of the Hindu Mahasabha.\n",
            "Sometime after 5 PM, according to witnesses, Gandhi had reached the top of the steps leading to the raised lawn behind Birla House where he had been conducting multi-faith prayer meetings every evening. As Gandhi began to walk toward the dais, Godse stepped out from the crowd flanking Gandhi's path, and fired three bullets into Gandhi's chest and stomach at point-blank range. Gandhi fell to the ground. He was carried back to his room in Birla House from which a r\u001b[0m\u001b[32;1m\u001b[1;3mI now know the final answer. \n",
            "\n",
            "Final Answer: Mahatma Gandhi was born on 2 October 1869.\u001b[0m\n",
            "\n",
            "\u001b[1m> Finished chain.\u001b[0m\n",
            "Mahatma Gandhi was born on 2 October 1869.\n",
            "Enter a taskq\n",
            "Quitting the program...\n"
          ]
        }
      ]
    }
  ],
  "metadata": {
    "colab": {
      "name": "Welcome To Colab",
      "provenance": [],
      "include_colab_link": true
    },
    "kernelspec": {
      "display_name": "Python 3",
      "name": "python3"
    }
  },
  "nbformat": 4,
  "nbformat_minor": 0
}