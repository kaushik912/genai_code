{
  "cells": [
    {
      "cell_type": "markdown",
      "source": [
        "# Blog post generator\n",
        "\n",
        "\n"
      ],
      "metadata": {
        "id": "cR-LhRljMd7n"
      },
      "id": "cR-LhRljMd7n"
    },
    {
      "cell_type": "markdown",
      "source": [
        "Please generate a blog post generator.\n",
        "1. It should first take a topic and generate a outline.\n",
        "2. Using the outline response, create an interesting blog post\n",
        "\n",
        "\n",
        "This exercise demonstrates the use of chains.\n",
        "\n",
        "Note: For streamlit, please run this sample locally."
      ],
      "metadata": {
        "id": "sNizrI3uezg1"
      },
      "id": "sNizrI3uezg1"
    },
    {
      "cell_type": "code",
      "source": [
        "import streamlit as st\n",
        "from langchain_openai import ChatOpenAI\n",
        "from langchain.prompts import PromptTemplate\n",
        "from langchain_core.output_parsers import StrOutputParser\n",
        "import os\n",
        "\n",
        "OPENAI_API_KEY = os.getenv(\"OPENAI_API_KEY\")\n",
        "\n",
        "llm = ChatOpenAI(model=\"gpt-4\", api_key=OPENAI_API_KEY)\n",
        "\n",
        "outline_prompt = PromptTemplate(\n",
        "    input_variables=[\"topic\"],\n",
        "    template=\"\"\"You are a professional blogger.\n",
        "    Create an outline for a blog post on the following topic: {topic}\n",
        "    The outline should include:\n",
        "    - Introduction\n",
        "    - 3 main points with subpoints\n",
        "    - Conclusion\n",
        "    \"\"\"\n",
        ")\n",
        "\n",
        "introduction_prompt = PromptTemplate(\n",
        "    input_variables=[\"outline\"],\n",
        "    template=\"\"\"You are a professional blogger.\n",
        "    Write an engaging introduction paragraph based on the following\n",
        "    outline:{outline}\n",
        "    The introduction should hook the reader and provide a brief\n",
        "    overview of the topic.\n",
        "    \"\"\"\n",
        ")\n",
        "\n",
        "first_chain = outline_prompt | llm | StrOutputParser() | (lambda outline : (st.write(outline),outline)[1])\n",
        "second_chain = introduction_prompt | llm\n",
        "overall_chain = first_chain | second_chain\n",
        "\n",
        "st.title(\"Blog Post Generator\")\n",
        "\n",
        "topic = st.text_input(\"Input Topic\")\n",
        "\n",
        "if topic:\n",
        "    response = overall_chain.invoke({\"topic\": topic})\n",
        "    st.write(response.content)\n",
        "\n"
      ],
      "metadata": {
        "id": "407MZHo1e1zl"
      },
      "id": "407MZHo1e1zl",
      "execution_count": null,
      "outputs": []
    },
    {
      "cell_type": "markdown",
      "source": [
        "[colab-notebook](https://colab.research.google.com/github/kaushik912/genai_code/blob/main/Langchain/chains/blogpost_generator.ipynb)"
      ],
      "metadata": {
        "id": "WN0Q373Sfvrd"
      },
      "id": "WN0Q373Sfvrd"
    }
  ],
  "metadata": {
    "kernelspec": {
      "display_name": "Python 3 (ipykernel)",
      "language": "python",
      "name": "python3"
    },
    "language_info": {
      "codemirror_mode": {
        "name": "ipython",
        "version": 3
      },
      "file_extension": ".py",
      "mimetype": "text/x-python",
      "name": "python",
      "nbconvert_exporter": "python",
      "pygments_lexer": "ipython3",
      "version": "3.12.1"
    },
    "colab": {
      "provenance": []
    }
  },
  "nbformat": 4,
  "nbformat_minor": 5
}