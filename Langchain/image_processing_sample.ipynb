{
  "cells": [
    {
      "cell_type": "markdown",
      "source": [
        "# Image Processing using OpenAI"
      ],
      "metadata": {
        "id": "cR-LhRljMd7n"
      },
      "id": "cR-LhRljMd7n"
    },
    {
      "cell_type": "markdown",
      "source": [
        "1. First, install some dependencies"
      ],
      "metadata": {
        "id": "aWA8_lzJHXe5"
      },
      "id": "aWA8_lzJHXe5"
    },
    {
      "cell_type": "code",
      "source": [
        "!pip install langchain_openai\n",
        "!pip install openai"
      ],
      "metadata": {
        "collapsed": true,
        "id": "qyeuBsjMH2t_"
      },
      "id": "qyeuBsjMH2t_",
      "execution_count": null,
      "outputs": []
    },
    {
      "cell_type": "markdown",
      "source": [
        "2. Import some libraries around OpenAI"
      ],
      "metadata": {
        "id": "SXEBYMJmIrAH"
      },
      "id": "SXEBYMJmIrAH"
    },
    {
      "cell_type": "code",
      "source": [
        "from langchain_openai import ChatOpenAI\n",
        "from langchain_core.prompts import ChatPromptTemplate\n",
        "\n",
        "import base64\n",
        "import os"
      ],
      "metadata": {
        "id": "7p6S2OquHgJE"
      },
      "id": "7p6S2OquHgJE",
      "execution_count": 4,
      "outputs": []
    },
    {
      "cell_type": "markdown",
      "source": [
        "3. Upload an image to Files\n",
        "\n",
        "Add a file to \"Files\" in Google Colab. I uploaded a file 'airport_terminal_journey.jpeg'\n",
        "NOTE: This file gets deleted whenever the runtime is deleted."
      ],
      "metadata": {
        "id": "QK5frtOoHZH-"
      },
      "id": "QK5frtOoHZH-"
    },
    {
      "cell_type": "markdown",
      "source": [
        "4. Now set the open_api key"
      ],
      "metadata": {
        "id": "BFGZr2ibJukW"
      },
      "id": "BFGZr2ibJukW"
    },
    {
      "cell_type": "code",
      "source": [
        "def _set_env(var: str):\n",
        "    if not os.environ.get(var):\n",
        "        os.environ[var] = getpass.getpass(f\"{var}: \")\n",
        "\n",
        "_set_env(\"OPENAI_API_KEY\")"
      ],
      "metadata": {
        "id": "lDDX_ogdJww1"
      },
      "id": "lDDX_ogdJww1",
      "execution_count": 8,
      "outputs": []
    },
    {
      "cell_type": "markdown",
      "source": [
        "5. Define a method to encode the image to base64"
      ],
      "metadata": {
        "id": "Os3WMJlQXMRd"
      },
      "id": "Os3WMJlQXMRd"
    },
    {
      "cell_type": "code",
      "source": [
        "def encode_image(image_path):\n",
        "    with open(image_path, \"rb\") as image_file:\n",
        "        return base64.b64encode(image_file.read()).decode()"
      ],
      "metadata": {
        "id": "_aAXvQIyY07H"
      },
      "id": "_aAXvQIyY07H",
      "execution_count": 13,
      "outputs": []
    },
    {
      "cell_type": "markdown",
      "source": [
        "6. Create the prompt"
      ],
      "metadata": {
        "id": "ODhe3ZbrY5PR"
      },
      "id": "ODhe3ZbrY5PR"
    },
    {
      "cell_type": "code",
      "source": [
        "OPENAI_API_KEY = os.getenv(\"OPENAI_API_KEY\")\n",
        "llm = ChatOpenAI(model=\"gpt-4o\", api_key=OPENAI_API_KEY)\n",
        "image = encode_image(\"/content/sample_data/children.png\")\n",
        "prompt = ChatPromptTemplate.from_messages(\n",
        "    [\n",
        "        (\"system\", \"You are a helpful assistant that can describe images.\"),\n",
        "        (\n",
        "            \"human\",\n",
        "            [\n",
        "                {\"type\": \"text\", \"text\": \"{input}\"},\n",
        "                {\n",
        "                    \"type\": \"image_url\",\n",
        "                    \"image_url\": {\n",
        "                        \"url\": f\"data:image/jpeg;base64,{image}\",\n",
        "                        \"detail\": \"low\",\n",
        "                    },\n",
        "                },\n",
        "            ],\n",
        "        ),\n",
        "    ]\n",
        ")"
      ],
      "metadata": {
        "id": "9OvVybV5HQ0_"
      },
      "id": "9OvVybV5HQ0_",
      "execution_count": 14,
      "outputs": []
    },
    {
      "cell_type": "markdown",
      "source": [
        "Invoke the chain"
      ],
      "metadata": {
        "id": "qu44TbreXdk2"
      },
      "id": "qu44TbreXdk2"
    },
    {
      "cell_type": "code",
      "source": [
        "chain = prompt | llm\n",
        "response = chain.invoke({\"input\": \"Explain\"})\n"
      ],
      "metadata": {
        "id": "bmb0madtXims"
      },
      "id": "bmb0madtXims",
      "execution_count": 15,
      "outputs": []
    },
    {
      "cell_type": "markdown",
      "source": [
        "Print the response content"
      ],
      "metadata": {
        "id": "ub_LCosGYDWN"
      },
      "id": "ub_LCosGYDWN"
    },
    {
      "cell_type": "code",
      "source": [
        "print(response.content)"
      ],
      "metadata": {
        "colab": {
          "base_uri": "https://localhost:8080/"
        },
        "id": "5FWGHJaOYExW",
        "outputId": "469221e9-6790-47ce-f6f3-fd633e8389b0"
      },
      "id": "5FWGHJaOYExW",
      "execution_count": 16,
      "outputs": [
        {
          "output_type": "stream",
          "name": "stdout",
          "text": [
            "The image depicts a group of five children happily playing together. \n",
            "\n",
            "1. The child on the left is sitting, wearing a pink outfit, and blowing bubbles.\n",
            "2. Next to them, another child is sitting and holding a teddy bear, wearing a blue dress.\n",
            "3. In the center, a child with a cap is playing with colorful blocks, including a cube, cylinder, and cone.\n",
            "4. Another child, to the right, is standing with their arms raised, appearing excited, wearing a green shirt.\n",
            "5. The child on the far right is sitting and laughing, holding a small teddy bear, wearing a purple outfit.\n",
            "\n",
            "The children are engaged in playful activities, showing expressions of joy and excitement.\n"
          ]
        }
      ]
    },
    {
      "cell_type": "markdown",
      "id": "8d5f3703",
      "metadata": {
        "id": "8d5f3703"
      },
      "source": [
        "[![Open in Colab](https://colab.research.google.com/assets/colab-badge.svg)](https://colab.research.google.com/github/langchain-ai/langchain-academy/blob/main/module-1/simple-graph.ipynb) [![Open in LangChain Academy](https://cdn.prod.website-files.com/65b8cd72835ceeacd4449a53/66e9eba12c7b7688aa3dbb5e_LCA-badge-green.svg)](https://academy.langchain.com/courses/take/intro-to-langgraph/lessons/58238187-lesson-2-simple-graph)"
      ]
    }
  ],
  "metadata": {
    "kernelspec": {
      "display_name": "Python 3 (ipykernel)",
      "language": "python",
      "name": "python3"
    },
    "language_info": {
      "codemirror_mode": {
        "name": "ipython",
        "version": 3
      },
      "file_extension": ".py",
      "mimetype": "text/x-python",
      "name": "python",
      "nbconvert_exporter": "python",
      "pygments_lexer": "ipython3",
      "version": "3.12.1"
    },
    "colab": {
      "provenance": []
    }
  },
  "nbformat": 4,
  "nbformat_minor": 5
}