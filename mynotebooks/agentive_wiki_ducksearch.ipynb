{
  "cells": [
    {
      "cell_type": "markdown",
      "source": [
        "Agentive Example"
      ],
      "metadata": {
        "id": "cR-LhRljMd7n"
      },
      "id": "cR-LhRljMd7n"
    },
    {
      "cell_type": "code",
      "source": [
        "!pip install langchain_openai\n",
        "!pip install langchain_community\n",
        "!pip install wikipedia\n",
        "!pip install duckduckgo-search\n"
      ],
      "metadata": {
        "id": "DgFmHo_uEw9d"
      },
      "id": "DgFmHo_uEw9d",
      "execution_count": null,
      "outputs": []
    },
    {
      "cell_type": "code",
      "source": [
        "%%capture\n",
        "!pip install openai==1.55.3 httpx==0.27.2 --force-reinstall --quiet"
      ],
      "metadata": {
        "id": "qitBOs1hOtYw"
      },
      "id": "qitBOs1hOtYw",
      "execution_count": 1,
      "outputs": []
    },
    {
      "cell_type": "markdown",
      "source": [
        "Install some packages"
      ],
      "metadata": {
        "id": "kjcL5M5vEvCB"
      },
      "id": "kjcL5M5vEvCB"
    },
    {
      "cell_type": "code",
      "source": [
        "import os\n",
        "os.kill(os.getpid(), 9)\n"
      ],
      "metadata": {
        "id": "ohaotukkNWPX"
      },
      "id": "ohaotukkNWPX",
      "execution_count": null,
      "outputs": []
    },
    {
      "cell_type": "markdown",
      "source": [
        "set the OPENAPI Key"
      ],
      "metadata": {
        "id": "BMZGIoMnFOva"
      },
      "id": "BMZGIoMnFOva"
    },
    {
      "cell_type": "code",
      "source": [
        "import os\n",
        "import base64\n",
        "import getpass\n",
        "def _set_env(var: str):\n",
        "    if not os.environ.get(var):\n",
        "        os.environ[var] = getpass.getpass(f\"{var}: \")\n",
        "\n",
        "_set_env(\"OPENAI_API_KEY\")"
      ],
      "metadata": {
        "colab": {
          "base_uri": "https://localhost:8080/"
        },
        "id": "O2B1Ga8sFQOv",
        "outputId": "d98df0a6-13b0-4071-9d24-6168b845828e"
      },
      "id": "O2B1Ga8sFQOv",
      "execution_count": 3,
      "outputs": [
        {
          "name": "stdout",
          "output_type": "stream",
          "text": [
            "OPENAI_API_KEY: ··········\n"
          ]
        }
      ]
    },
    {
      "cell_type": "code",
      "source": [
        "import os\n",
        "from langchain_community.chat_models import ChatOpenAI\n",
        "from langchain import hub\n",
        "from langchain.agents import create_react_agent, AgentExecutor\n",
        "from langchain_community.agent_toolkits.load_tools import load_tools\n",
        "from numpy.f2py.crackfortran import verbose\n",
        "\n",
        "OPENAI_API_KEY = os.getenv(\"OPENAI_API_KEY\")\n",
        "## The LLM piece is now changing to gemma\n",
        "llm=ChatOpenAI(model=\"gpt-4o\",api_key=OPENAI_API_KEY)\n",
        "\n",
        "prompt = hub.pull(\"hwchase17/react\")\n",
        "\n",
        "tools = load_tools([\"wikipedia\",\"ddg-search\"])\n",
        "agent = create_react_agent(llm,tools,prompt)\n",
        "\n",
        "agent_executor = AgentExecutor(agent=agent,tools=tools,verbose=True)\n",
        "\n",
        "print(\"This is a AI agent\")\n",
        "task=input(\"assign me a task\")\n",
        "if task:\n",
        "    response = agent_executor.invoke({\"input\":task})\n",
        "    print(response[\"output\"])"
      ],
      "metadata": {
        "colab": {
          "base_uri": "https://localhost:8080/"
        },
        "id": "GlXXJKokEtEg",
        "outputId": "42405b17-f8b7-41de-a076-4a1b5e97c3b1"
      },
      "id": "GlXXJKokEtEg",
      "execution_count": 4,
      "outputs": [
        {
          "output_type": "stream",
          "name": "stderr",
          "text": [
            "<ipython-input-4-78b825cf63e8>:10: LangChainDeprecationWarning: The class `ChatOpenAI` was deprecated in LangChain 0.0.10 and will be removed in 1.0. An updated version of the class exists in the :class:`~langchain-openai package and should be used instead. To use it run `pip install -U :class:`~langchain-openai` and import as `from :class:`~langchain_openai import ChatOpenAI``.\n",
            "  llm=ChatOpenAI(model=\"gpt-4o\",api_key=OPENAI_API_KEY)\n",
            "/usr/local/lib/python3.10/dist-packages/langsmith/client.py:241: LangSmithMissingAPIKeyWarning: API key must be provided when using hosted LangSmith API\n",
            "  warnings.warn(\n"
          ]
        },
        {
          "output_type": "stream",
          "name": "stdout",
          "text": [
            "This is a AI agent\n",
            "assign me a taskWhat is the southern most part of india\n",
            "\n",
            "\n",
            "\u001b[1m> Entering new AgentExecutor chain...\u001b[0m\n",
            "\u001b[32;1m\u001b[1;3mThe southernmost part of India is a geographical fact, and I can find this information using Wikipedia. \n",
            "\n",
            "Action: wikipedia\n",
            "Action Input: Southernmost point of India\u001b[0m"
          ]
        },
        {
          "output_type": "stream",
          "name": "stderr",
          "text": [
            "/usr/local/lib/python3.10/dist-packages/wikipedia/wikipedia.py:389: GuessedAtParserWarning: No parser was explicitly specified, so I'm using the best available HTML parser for this system (\"lxml\"). This usually isn't a problem, but if you run this code on another system, or in a different virtual environment, it may use a different parser and behave differently.\n",
            "\n",
            "The code that caused this warning is on line 389 of the file /usr/local/lib/python3.10/dist-packages/wikipedia/wikipedia.py. To get rid of this warning, pass the additional argument 'features=\"lxml\"' to the BeautifulSoup constructor.\n",
            "\n",
            "  lis = BeautifulSoup(html).find_all('li')\n"
          ]
        },
        {
          "output_type": "stream",
          "name": "stdout",
          "text": [
            "\u001b[36;1m\u001b[1;3mPage: List of countries by southernmost point\n",
            "Summary: This is a list of countries by southernmost point on land. Where borders are contested, the southernmost point under the control of a nation is listed, excluding points within Antarctica and its outlying islands south of 60°S.\n",
            "\n",
            "Page: Indira Point\n",
            "Summary: Indira Point, the southernmost point of India's territory, is a village in the Nicobar district at Great Nicobar Island of Andaman and Nicobar Islands in India. It is located in the Great Nicobar tehsil.\n",
            "Rondo Island, Indonesia's northernmost island in Sabang district of Aceh province of Sumatra,  lies 163 km south of Little Andaman Island, and 145 km or 80 nautical miles from Indira Point. India and Indonesia are upgrading the deep sea port Sabang under the strategic military and economic collaboration to protect the channel between Great Nicobar Island and Rondo Island (c. May 2019), which is 612 km or 330 nautical miles from Indira Point.\u001b[0m\u001b[32;1m\u001b[1;3mI now know the final answer. \n",
            "\n",
            "Final Answer: The southernmost part of India is Indira Point, which is located in the Nicobar district at Great Nicobar Island of the Andaman and Nicobar Islands.\u001b[0m\n",
            "\n",
            "\u001b[1m> Finished chain.\u001b[0m\n",
            "The southernmost part of India is Indira Point, which is located in the Nicobar district at Great Nicobar Island of the Andaman and Nicobar Islands.\n"
          ]
        }
      ]
    },
    {
      "cell_type": "markdown",
      "source": [
        "[Google Colab Link](https://colab.research.google.com/github/kaushik912/genai_code/blob/main/Langchain/agents/agent_example.ipynb)"
      ],
      "metadata": {
        "id": "j72K4NO1P4lB"
      },
      "id": "j72K4NO1P4lB"
    }
  ],
  "metadata": {
    "kernelspec": {
      "display_name": "Python 3 (ipykernel)",
      "language": "python",
      "name": "python3"
    },
    "language_info": {
      "codemirror_mode": {
        "name": "ipython",
        "version": 3
      },
      "file_extension": ".py",
      "mimetype": "text/x-python",
      "name": "python",
      "nbconvert_exporter": "python",
      "pygments_lexer": "ipython3",
      "version": "3.12.1"
    },
    "colab": {
      "provenance": []
    }
  },
  "nbformat": 4,
  "nbformat_minor": 5
}
