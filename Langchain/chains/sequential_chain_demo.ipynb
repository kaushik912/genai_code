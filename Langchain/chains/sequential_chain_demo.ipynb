{
 "cells": [
  {
   "cell_type": "code",
   "execution_count": 1,
   "metadata": {},
   "outputs": [
    {
     "name": "stdout",
     "output_type": "stream",
     "text": [
      "Writing sequential_chain_demo.py\n"
     ]
    }
   ],
   "source": [
    "%%writefile sequential_chain_demo.py\n",
    "import os\n",
    "from langchain_openai import ChatOpenAI\n",
    "import streamlit as st\n",
    "from langchain.prompts import PromptTemplate\n",
    "from langchain_core.output_parsers import StrOutputParser,JsonOutputParser\n",
    "\n",
    "OPENAI_API_KEY = os.getenv(\"OPENAI_API_KEY\")\n",
    "llm=ChatOpenAI(model=\"gpt-4o\", api_key=OPENAI_API_KEY)\n",
    "title_prompt = PromptTemplate(\n",
    "    input_variables=[\"topic\"],\n",
    "    template=\"\"\"You are an experienced speech writer.\n",
    "    You need to craft an impactful title for a speech \n",
    "    on the following topic: {topic}\n",
    "    Answer exactly with one title.\t\n",
    "    \"\"\"\n",
    ")\n",
    "\n",
    "speech_prompt = PromptTemplate(\n",
    "    input_variables=[\"title\", \"emotion\"],\n",
    "    template=\"\"\"You need to write a powerful {emotion} speech of 350 words\n",
    "     for the following title: {title}  \n",
    "     Format the output with 2 keys: 'title','speech' and fill them\n",
    "     with the respective values  \n",
    "    \"\"\"\n",
    ")\n",
    "\n",
    "first_chain = title_prompt | llm | StrOutputParser() | (lambda title: (st.write(title),title)[1])\n",
    "second_chain = speech_prompt | llm | JsonOutputParser()\n",
    "final_chain = first_chain | (lambda title:{\"title\": title,\"emotion\": emotion}) | second_chain\n",
    "\n",
    "st.title(\"Speech Generator\")\n",
    "\n",
    "topic = st.text_input(\"Enter the topic:\")\n",
    "emotion = st.text_input(\"Enter the emotion:\")\n",
    "\n",
    "if topic and emotion:\n",
    "    response = final_chain.invoke({\"topic\":topic})\n",
    "    st.write(response)\n",
    "    st.write(response['title'])\n",
    "\n"
   ]
  },
  {
   "cell_type": "markdown",
   "metadata": {},
   "source": [
    "Run the app"
   ]
  },
  {
   "cell_type": "code",
   "execution_count": 2,
   "metadata": {},
   "outputs": [
    {
     "name": "stdout",
     "output_type": "stream",
     "text": [
      "\u001b[0m\n",
      "\u001b[34m\u001b[1m  You can now view your Streamlit app in your browser.\u001b[0m\n",
      "\u001b[0m\n",
      "\u001b[34m  Local URL: \u001b[0m\u001b[1mhttp://localhost:8501\u001b[0m\n",
      "\u001b[34m  Network URL: \u001b[0m\u001b[1mhttp://100.64.0.1:8501\u001b[0m\n",
      "\u001b[0m\n",
      "\u001b[34m\u001b[1m  For better performance, install the Watchdog module:\u001b[0m\n",
      "\n",
      "  $ xcode-select --install\n",
      "  $ pip install watchdog\n",
      "            \u001b[0m\n",
      "^C\n",
      "\u001b[34m  Stopping...\u001b[0m\n"
     ]
    }
   ],
   "source": [
    "!streamlit run sequential_chain_demo.py"
   ]
  }
 ],
 "metadata": {
  "kernelspec": {
   "display_name": ".venv",
   "language": "python",
   "name": "python3"
  },
  "language_info": {
   "codemirror_mode": {
    "name": "ipython",
    "version": 3
   },
   "file_extension": ".py",
   "mimetype": "text/x-python",
   "name": "python",
   "nbconvert_exporter": "python",
   "pygments_lexer": "ipython3",
   "version": "3.12.6"
  }
 },
 "nbformat": 4,
 "nbformat_minor": 2
}
