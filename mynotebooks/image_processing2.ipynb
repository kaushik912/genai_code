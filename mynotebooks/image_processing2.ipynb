{
  "cells": [
    {
      "cell_type": "markdown",
      "metadata": {
        "id": "view-in-github",
        "colab_type": "text"
      },
      "source": [
        "<a href=\"https://colab.research.google.com/github/kaushik912/genai_code/blob/main/mynotebooks/image_processing2.ipynb\" target=\"_parent\"><img src=\"https://colab.research.google.com/assets/colab-badge.svg\" alt=\"Open In Colab\"/></a>"
      ]
    },
    {
      "cell_type": "markdown",
      "source": [
        "# Image Processing Example"
      ],
      "metadata": {
        "id": "mRsEFpWqLCiJ"
      }
    },
    {
      "cell_type": "code",
      "source": [
        "%%capture\n",
        "!pip install langchain_openai\n",
        "!pip install openai"
      ],
      "metadata": {
        "id": "O6MUSHvT0Y6A"
      },
      "execution_count": 1,
      "outputs": []
    },
    {
      "cell_type": "code",
      "source": [
        "import base64\n",
        "import os\n",
        "import getpass\n",
        "def _set_env(var: str):\n",
        "    if not os.environ.get(var):\n",
        "        os.environ[var] = getpass.getpass(f\"{var}: \")\n",
        "\n",
        "_set_env(\"OPENAI_API_KEY\")"
      ],
      "metadata": {
        "id": "pJSw9Tc_0pRN",
        "outputId": "dda2202e-ec4b-4f20-84d9-8b1c9cc32a05",
        "colab": {
          "base_uri": "https://localhost:8080/"
        }
      },
      "execution_count": 2,
      "outputs": [
        {
          "name": "stdout",
          "output_type": "stream",
          "text": [
            "OPENAI_API_KEY: ··········\n"
          ]
        }
      ]
    },
    {
      "cell_type": "code",
      "source": [
        "from langchain_openai import ChatOpenAI\n",
        "from langchain_core.prompts import ChatPromptTemplate\n",
        "\n",
        "import base64\n",
        "import os\n",
        "def encode_image(image_path):\n",
        "    with open(image_path, \"rb\") as image_file:\n",
        "        return base64.b64encode(image_file.read()).decode()\n",
        "\n",
        "OPENAI_API_KEY = os.getenv(\"OPENAI_API_KEY\")\n",
        "llm = ChatOpenAI(model=\"gpt-4o\", api_key=OPENAI_API_KEY)\n",
        "#upload any image of your choice in Colab Files under sample_data\n",
        "#Here I have uploaded a file named children.jpg\n",
        "image = encode_image(\"/content/sample_data/children.jpg\")\n",
        "prompt = ChatPromptTemplate.from_messages(\n",
        "    [\n",
        "        (\"system\", \"You are a helpful assistant that can describe images.\"),\n",
        "        (\n",
        "            \"human\",\n",
        "            [\n",
        "                {\"type\": \"text\", \"text\": \"{input}\"}, #message1\n",
        "                {#message2\n",
        "                    \"type\": \"image_url\",\n",
        "                    \"image_url\": {\n",
        "                        \"url\": f\"data:image/jpeg;base64,{image}\",\n",
        "                        \"detail\": \"low\",\n",
        "                    },\n",
        "                },\n",
        "            ],\n",
        "        ),\n",
        "    ]\n",
        ")\n",
        "\n",
        "chain = prompt | llm\n",
        "response = chain.invoke({\"input\": \"Explain\"})\n",
        "print(response.content)"
      ],
      "metadata": {
        "id": "UBUPW0dO0UVr",
        "outputId": "d811fc9a-d107-4678-975e-2ce41b026530",
        "colab": {
          "base_uri": "https://localhost:8080/"
        }
      },
      "execution_count": 3,
      "outputs": [
        {
          "output_type": "stream",
          "name": "stdout",
          "text": [
            "The image depicts a lively playground scene with five children engaged in various activities. \n",
            "\n",
            "- On the left, a girl is hula hooping while smiling and wearing a pink skirt and top.\n",
            "- Near the center, another girl in a blue and white dress is joyfully tossing a ball.\n",
            "- In the foreground, two boys are interacting with a soccer ball. One boy, in a striped shirt, is raising his arms excitedly, and the other, with curly hair, is seated on the ground.\n",
            "- On the right, a boy is holding a basketball, preparing to play. \n",
            "- A slide and a large tree are in the background, adding to the playground setting.\n",
            "\n",
            "The scene is colorful and cheerful, suggesting a fun, sunny day.\n"
          ]
        }
      ]
    }
  ],
  "metadata": {
    "colab": {
      "name": "Welcome To Colab",
      "provenance": [],
      "include_colab_link": true
    },
    "kernelspec": {
      "display_name": "Python 3",
      "name": "python3"
    }
  },
  "nbformat": 4,
  "nbformat_minor": 0
}